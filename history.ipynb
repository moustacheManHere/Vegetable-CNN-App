{
 "cells": [
  {
   "cell_type": "code",
   "execution_count": 6,
   "metadata": {},
   "outputs": [],
   "source": [
    "comments = [\n",
    "    (1, \"This one looked too perfect to be real!\"),\n",
    "    (2, \"I thought it was real until I saw the stem.\"),\n",
    "    (3, \"It tasted too good to be fake!\"),\n",
    "    (4, \"The texture felt off, so I'm guessing fake.\"),\n",
    "    (5, \"I've never seen this vegetable before, so I'm guessing fake.\"),\n",
    "    (6, \"It smelled strange, so I'm guessing fake.\"),\n",
    "    (7, \"The color seemed artificial, so I'm guessing fake.\"),\n",
    "    (8, \"It felt too firm to be real.\"),\n",
    "    (9, \"The taste was a bit bland, so I'm guessing fake.\"),\n",
    "    (10, \"It looked too shiny to be real.\"),\n",
    "    (11, \"The price was too low for it to be real.\"),\n",
    "    (12, \"It looked too wrinkled to be real.\"),\n",
    "    (13, \"It looked too perfect to be fake!\"),\n",
    "    (14, \"It tasted exactly like the real thing!\"),\n",
    "    (15, \"It had a natural smell, so I'm guessing real.\"),\n",
    "    (16, \"The texture felt just right, so I'm guessing real.\"),\n",
    "    (17, \"I recognized the vegetable immediately, so I'm guessing real.\"),\n",
    "    (18, \"It had imperfections, so I'm guessing real.\"),\n",
    "    (19, \"The color looked natural, so I'm guessing real.\"),\n",
    "    (20, \"It felt soft to the touch, so I'm guessing real.\"),\n",
    "    (21, \"It tasted fresh, so I'm guessing real.\"),\n",
    "    (22, \"It had soil residue, so I'm guessing real.\"),\n",
    "    (23, \"The price was high, so I'm guessing real.\"),\n",
    "    (24, \"It looked like it was just picked, so I'm guessing real.\"),\n",
    "    (25, \"It had irregularities, so I'm guessing real.\"),\n",
    "    (26, \"The texture felt natural, so I'm guessing real.\"),\n",
    "    (27, \"It tasted organic, so I'm guessing real.\"),\n",
    "    (28, \"It looked like it was grown locally, so I'm guessing real.\"),\n",
    "    (29, \"It had a stem attached, so I'm guessing real.\"),\n",
    "    (30, \"It looked like it was recently harvested, so I'm guessing real.\"),\n",
    "    (31, \"It tasted earthy, so I'm guessing real.\"),\n",
    "    (32, \"It felt like it was from a farmer's market, so I'm guessing real.\"),\n",
    "    (33, \"It had a leafy smell, so I'm guessing real.\"),\n",
    "    (34, \"It had a rich flavor, so I'm guessing real.\"),\n",
    "    (35, \"It had natural ridges, so I'm guessing real.\"),\n",
    "    (36, \"The seeds looked genuine, so I'm guessing real.\"),\n",
    "    (37, \"It looked like it was grown in a garden, so I'm guessing real.\"),\n",
    "    (38, \"It tasted juicy, so I'm guessing real.\"),\n",
    "    (39, \"It looked like it was grown with care, so I'm guessing real.\")\n",
    "]\n"
   ]
  },
  {
   "cell_type": "code",
   "execution_count": 2,
   "metadata": {},
   "outputs": [],
   "source": [
    "from sklearn.feature_extraction.text import TfidfVectorizer\n",
    "from sklearn.metrics.pairwise import cosine_similarity"
   ]
  },
  {
   "cell_type": "code",
   "execution_count": 14,
   "metadata": {},
   "outputs": [
    {
     "name": "stdout",
     "output_type": "stream",
     "text": [
      "[(1, 1.0000000000000002), (13, 1.0000000000000002), (10, 0.8164965809277261), (12, 0.8164965809277261), (3, 0.5773502691896258), (8, 0.5773502691896258), (11, 0.5773502691896258), (19, 0.5773502691896258), (24, 0.5773502691896258), (28, 0.5773502691896258), (30, 0.5773502691896258), (36, 0.5773502691896258), (37, 0.5773502691896258), (39, 0.5773502691896258), (2, 0.0), (4, 0.0), (5, 0.0), (6, 0.0), (7, 0.0), (9, 0.0), (14, 0.0), (15, 0.0), (16, 0.0), (17, 0.0), (18, 0.0), (20, 0.0), (21, 0.0), (22, 0.0), (23, 0.0), (25, 0.0), (26, 0.0), (27, 0.0), (29, 0.0), (31, 0.0), (32, 0.0), (33, 0.0), (34, 0.0), (35, 0.0), (38, 0.0)]\n"
     ]
    }
   ],
   "source": [
    "def search_comments(query):\n",
    "    results = []\n",
    "    \n",
    "    vectorizer = TfidfVectorizer()\n",
    "\n",
    "    query_tfidf = vectorizer.fit_transform([query])\n",
    "    tfidf_matrix_batch = vectorizer.transform([comment[1] for comment in comments])\n",
    "\n",
    "    similarity = cosine_similarity(tfidf_matrix_batch, query_tfidf)\n",
    "\n",
    "    batch_results = [(comments[i][0], similarity[i][0]) for i in range(len(comments))]\n",
    "\n",
    "    results = sorted(batch_results, key=lambda x: x[1], reverse=True)\n",
    "    return results\n",
    "\n",
    "results = search_comments(\"looked too perfect\")\n",
    "print(results)\n"
   ]
  },
  {
   "cell_type": "code",
   "execution_count": 9,
   "metadata": {},
   "outputs": [
    {
     "name": "stdout",
     "output_type": "stream",
     "text": [
      "[(1, 1.0000000000000002), (13, 1.0000000000000002), (10, 0.8164965809277261), (12, 0.8164965809277261), (3, 0.5773502691896258), (8, 0.5773502691896258), (11, 0.5773502691896258), (19, 0.5773502691896258), (24, 0.5773502691896258), (28, 0.5773502691896258), (30, 0.5773502691896258), (36, 0.5773502691896258), (37, 0.5773502691896258), (39, 0.5773502691896258), (2, 0.0), (4, 0.0), (5, 0.0), (6, 0.0), (7, 0.0), (9, 0.0), (14, 0.0), (15, 0.0), (16, 0.0), (17, 0.0), (18, 0.0), (20, 0.0), (21, 0.0), (22, 0.0), (23, 0.0), (25, 0.0), (26, 0.0), (27, 0.0), (29, 0.0), (31, 0.0), (32, 0.0), (33, 0.0), (34, 0.0), (35, 0.0), (38, 0.0)]\n"
     ]
    }
   ],
   "source": [
    "def search_comments_batch(query):\n",
    "    batch_size = 10 \n",
    "    results = []\n",
    "    \n",
    "    vectorizer = TfidfVectorizer()\n",
    "\n",
    "    query_tfidf = vectorizer.fit_transform([query])\n",
    "\n",
    "    for i in range(0, len(comments), batch_size):\n",
    "        batch_comments = [comment[1] for comment in comments[i:i+batch_size]]\n",
    "        tfidf_matrix_batch = vectorizer.transform(batch_comments)\n",
    "\n",
    "        similarity = cosine_similarity(tfidf_matrix_batch, query_tfidf)\n",
    "\n",
    "        batch_results = [(comments[i+j][0], similarity[j][0]) for j in range(len(batch_comments))]\n",
    "\n",
    "        results.extend(batch_results)\n",
    "\n",
    "    results = sorted(results, key=lambda x: x[1], reverse=True)\n",
    "    return results\n",
    "\n",
    "results = search_comments_batch(\"looked too perfect\")\n",
    "print(results)\n"
   ]
  },
  {
   "cell_type": "code",
   "execution_count": 13,
   "metadata": {},
   "outputs": [
    {
     "name": "stdout",
     "output_type": "stream",
     "text": [
      "Time taken for search_comments: 0.03183102607727051 seconds\n",
      "Time taken for search_comments_batch: 0.019866466522216797 seconds\n"
     ]
    }
   ],
   "source": [
    "import time\n",
    "\n",
    "start_time = time.time()\n",
    "results = search_comments(\"looked too perfect\")\n",
    "end_time = time.time()\n",
    "print(\"Time taken for search_comments:\", end_time - start_time, \"seconds\")\n",
    "\n",
    "start_time = time.time()\n",
    "results_batch = search_comments_batch(\"looked too perfect\")\n",
    "end_time = time.time()\n",
    "print(\"Time taken for search_comments_batch:\", end_time - start_time, \"seconds\")\n"
   ]
  },
  {
   "cell_type": "code",
   "execution_count": null,
   "metadata": {},
   "outputs": [],
   "source": []
  }
 ],
 "metadata": {
  "kernelspec": {
   "display_name": "env",
   "language": "python",
   "name": "python3"
  },
  "language_info": {
   "codemirror_mode": {
    "name": "ipython",
    "version": 3
   },
   "file_extension": ".py",
   "mimetype": "text/x-python",
   "name": "python",
   "nbconvert_exporter": "python",
   "pygments_lexer": "ipython3",
   "version": "3.9.18"
  }
 },
 "nbformat": 4,
 "nbformat_minor": 2
}
